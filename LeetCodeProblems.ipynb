{
  "nbformat": 4,
  "nbformat_minor": 0,
  "metadata": {
    "colab": {
      "name": "LeetCodeProblems.ipynb",
      "provenance": [],
      "authorship_tag": "ABX9TyNULdnmy6IT6mF0hmF9kUyk",
      "include_colab_link": true
    },
    "kernelspec": {
      "name": "python3",
      "display_name": "Python 3"
    }
  },
  "cells": [
    {
      "cell_type": "markdown",
      "metadata": {
        "id": "view-in-github",
        "colab_type": "text"
      },
      "source": [
        "<a href=\"https://colab.research.google.com/github/git-chinmay/CompetativeProgramming/blob/master/LeetCodeProblems.ipynb\" target=\"_parent\"><img src=\"https://colab.research.google.com/assets/colab-badge.svg\" alt=\"Open In Colab\"/></a>"
      ]
    },
    {
      "cell_type": "code",
      "metadata": {
        "id": "D_LBug8Acpro",
        "colab_type": "code",
        "outputId": "a0c6dd4a-f26c-4384-a699-120b53c36eec",
        "colab": {
          "base_uri": "https://localhost:8080/",
          "height": 35
        }
      },
      "source": [
        "class Solution:\n",
        "\n",
        "  def twoSum(self, nums, target):\n",
        "    h = {}\n",
        "    for i, v in enumerate(nums):\n",
        "      remaining = target - v\n",
        "      if remaining in h:\n",
        "        return [h[remaining], i]       \n",
        "      h[v] = i\n",
        "    return []\n",
        "          \n",
        "\n",
        "obj1 = Solution()\n",
        "obj1.twoSum([1,2,4],6)"
      ],
      "execution_count": 0,
      "outputs": [
        {
          "output_type": "execute_result",
          "data": {
            "text/plain": [
              "[1, 2]"
            ]
          },
          "metadata": {
            "tags": []
          },
          "execution_count": 28
        }
      ]
    },
    {
      "cell_type": "code",
      "metadata": {
        "id": "Ghsovhs69_oY",
        "colab_type": "code",
        "outputId": "adaba161-860b-487a-ec1f-4d3c53499eb9",
        "colab": {
          "base_uri": "https://localhost:8080/",
          "height": 35
        }
      },
      "source": [
        "#Q:- To find the smallest number after removing K digits from a given number\n",
        "#We are not considering the Time-Space complexcity as focus is only on solution.\n",
        "#For Time Complexcity https://www.youtube.com/watch?v=3QJzHqNAEXs\n",
        "\n",
        "def Solution(inputList,k):\n",
        "  length = len(inputList)\n",
        "  if k >= length :\n",
        "    return \"K value should be smaller than length of input list.\"\n",
        "\n",
        "  i , j = 0,1\n",
        "  while length != 1 and k != 0:  \n",
        "    if inputList[i] > inputList[j]:\n",
        "      del inputList[i]\n",
        "      k -= 1\n",
        "      #Reseting i & j so that it always check from begining of list\n",
        "      i,j = 0,1 \n",
        "    else:\n",
        "      i += 1\n",
        "      j += 1\n",
        "    \n",
        "    length -= 1\n",
        "\n",
        "    #Condition is there should not be any leadning zeros\n",
        "    if inputList[i] == 0:\n",
        "      del inputList[i]\n",
        "  return inputList\n",
        "\n",
        "print(Solution([0,2,3,1,5,6,3,7],5))"
      ],
      "execution_count": 0,
      "outputs": [
        {
          "output_type": "stream",
          "text": [
            "[1, 5, 3, 7]\n"
          ],
          "name": "stdout"
        }
      ]
    },
    {
      "cell_type": "code",
      "metadata": {
        "id": "0mJG4u9l2zCw",
        "colab_type": "code",
        "outputId": "86a15a8c-8601-4fb4-d1b5-e994274d4566",
        "colab": {
          "base_uri": "https://localhost:8080/",
          "height": 35
        }
      },
      "source": [
        "\"\"\"Given a 32-bit signed integer, reverse digits of an integer.\n",
        "\n",
        "Assume we are dealing with an environment which could only store integers within \n",
        "the 32-bit signed integer range: [−231,  231 − 1]. For the purpose of this problem, \n",
        "assume that your function returns 0 when the reversed integer overflows.\n",
        "\n",
        "Runtime: 28 ms, faster than 83.73% of Python3 online submissions for Reverse Integer.\n",
        "Memory Usage: 13.8 MB, less than 5.26% of Python3 online submissions for Reverse Integer.\n",
        "\n",
        "\"\"\"\n",
        "\n",
        "def Solution(inputno):\n",
        "  if inputno >= 2**(31)-1 or inputno <= -2**(31) :\n",
        "\n",
        "    return 0\n",
        "  else:\n",
        "    if inputno == 0:\n",
        "      return 0\n",
        "    elif inputno < 0: \n",
        "      reversedNo = (str(inputno)[::-1]).lstrip('0')\n",
        "      reversedNo = '-'+reversedNo[0:-1]\n",
        "    else:\n",
        "      reversedNo = (str(inputno)[::-1]).lstrip('0')\n",
        "    \n",
        "    if int(reversedNo) >= 2**(31)-1 or int(reversedNo) <= -2**(31) :\n",
        "      return 0\n",
        "    else:\n",
        "      return reversedNo\n",
        "\n",
        "print(Solution(1534236469))"
      ],
      "execution_count": 0,
      "outputs": [
        {
          "output_type": "stream",
          "text": [
            "0\n"
          ],
          "name": "stdout"
        }
      ]
    },
    {
      "cell_type": "code",
      "metadata": {
        "id": "mwJ3EBARELo2",
        "colab_type": "code",
        "outputId": "000b1595-3f42-4494-c803-cf6995994fd5",
        "colab": {
          "base_uri": "https://localhost:8080/",
          "height": 52
        }
      },
      "source": [
        "\"\"\"Determine whether an integer is a palindrome. An integer is a palindrome when it reads the same backward as forward.\"\"\"\n",
        "inputNo = input('Enter number: ')\n",
        "if inputNo == inputNo[::-1] :\n",
        "  print(\"Palindrome\")\n",
        "else:\n",
        "  print(\"Not Plaindrome\")"
      ],
      "execution_count": 0,
      "outputs": [
        {
          "output_type": "stream",
          "text": [
            "Enter number: -121\n",
            "Not Plaindrome\n"
          ],
          "name": "stdout"
        }
      ]
    },
    {
      "cell_type": "code",
      "metadata": {
        "id": "BvZhrcO9Fysr",
        "colab_type": "code",
        "outputId": "bd6722f8-f5dc-4369-c76f-832fcd7a7b9b",
        "colab": {
          "base_uri": "https://localhost:8080/",
          "height": 35
        }
      },
      "source": [
        "\"\"\"Determine whether an integer is a palindrome or not without converting into string.\n",
        "1221%10 = 1\n",
        "1221/10 = 122\n",
        "122%10 = 2\n",
        "1*10 + 2 = 12  (Reverse of teh last two digit of 1221)\n",
        "\"\"\"\n",
        "\n",
        "def Solution(inputNo=121):\n",
        "  if inputNo >= 0:\n",
        "    n1 = (inputNo)%10 #will give reminder 1\n",
        "    n2 = (inputNo//10)%10\n",
        "    second_half = n1*10 + n2\n",
        "    power = int(math.log(inputNo,10))\n",
        "    first_half = inputNo//10**(power-1)\n",
        "  else:\n",
        "    return \"Negative number\"\n",
        "\n",
        "  if second_half == first_half:\n",
        "    return \"Palindrom\"\n",
        "  else:\n",
        "    return \"Not a Palindrom\"\n",
        "\n",
        "print(Solution(200000000000000000000000000002))"
      ],
      "execution_count": 0,
      "outputs": [
        {
          "output_type": "stream",
          "text": [
            "Palindrom\n"
          ],
          "name": "stdout"
        }
      ]
    },
    {
      "cell_type": "code",
      "metadata": {
        "id": "ShUeVGkSPJkf",
        "colab_type": "code",
        "outputId": "3ca6010e-3cd8-4e15-a7b5-2c35d8855303",
        "colab": {
          "base_uri": "https://localhost:8080/",
          "height": 69
        }
      },
      "source": [
        "\"\"\"\n",
        "Write a function that reverses a string. The input string is given as an array of characters char[].\n",
        "\n",
        "Do not allocate extra space for another array, you must do this by modifying the input array in-place with O(1) extra memory.\n",
        "\n",
        "You may assume all the characters consist of printable ascii characters.\n",
        "Input: [\"h\",\"e\",\"l\",\"l\",\"o\"]\n",
        "Output: [\"o\",\"l\",\"l\",\"e\",\"h\"]\n",
        "\"\"\"\n",
        "inputList = list(input(\"insput string: \"))\n",
        "print(inputList)\n",
        "inputList = inputList[::-1]\n",
        "print(inputList)\n",
        "\n"
      ],
      "execution_count": 0,
      "outputs": [
        {
          "output_type": "stream",
          "text": [
            "insput string: howdy\n",
            "['h', 'o', 'w', 'd', 'y']\n",
            "['y', 'd', 'w', 'o', 'h']\n"
          ],
          "name": "stdout"
        }
      ]
    },
    {
      "cell_type": "code",
      "metadata": {
        "id": "Lbrbrsx_6F1-",
        "colab_type": "code",
        "outputId": "e5221fdc-dc31-4bcf-c326-698da95580ba",
        "colab": {
          "base_uri": "https://localhost:8080/",
          "height": 52
        }
      },
      "source": [
        "\n",
        "\"\"\"For some reason above code not working in Leetcode\"\"\"\n",
        "\"\"\"\n",
        "class Solution:\n",
        "  def Reverse(self,s):\n",
        "    s = s[::-1]\n",
        "    print(s)\n",
        "\n",
        "obj1 = Solution()\n",
        "obj1.Reverse(['h', 'o', 'w', 'd', 'y'])\n",
        "\"\"\"\n",
        "class Solution:\n",
        "  def Reverse(self,s):\n",
        "    length = len(s)\n",
        "    i = length-1\n",
        "    while i >= 0:\n",
        "      s.append(s[i])\n",
        "      i -= 1\n",
        "    print(s)\n",
        "    for i in range(length):\n",
        "      s.remove(s[i])\n",
        "    print(s)\n",
        "\n",
        "\n",
        "obj1 = Solution()\n",
        "obj1.Reverse(['h', 'e', 'l', 'l', 'o'])"
      ],
      "execution_count": 0,
      "outputs": [
        {
          "output_type": "stream",
          "text": [
            "['h', 'e', 'l', 'l', 'o', 'o', 'l', 'l', 'e', 'h']\n",
            "['o', 'l', 'l', 'e', 'h']\n"
          ],
          "name": "stdout"
        }
      ]
    },
    {
      "cell_type": "code",
      "metadata": {
        "id": "iVcShJvBHaoK",
        "colab_type": "code",
        "outputId": "95d619bb-f57c-4e4a-ad56-20b98600fd45",
        "colab": {
          "base_uri": "https://localhost:8080/",
          "height": 52
        }
      },
      "source": [
        "\"\"\"\n",
        "Given a binary tree, find its maximum depth.\n",
        "The maximum depth is the number of nodes along the longest path from the root node down to the farthest leaf node.\n",
        "Note: A leaf is a node with no children.\"\"\"\n",
        "# Definition for a binary tree node.\n",
        "# class TreeNode:\n",
        "#     def __init__(self, val=0, left=None, right=None):\n",
        "#         self.val = val\n",
        "#         self.left = left\n",
        "#         self.right = right\n",
        "class Solution:\n",
        "    def maxDepth(self, root: TreeNode) -> int:\n",
        "        def maxNodes(node,sum):\n",
        "            if node:\n",
        "                return max(maxNodes(node.left,sum+1),maxNodes(node.right,sum+1))\n",
        "            else:\n",
        "                return sum\n",
        "        return maxNodes(root,0) \n",
        "\n",
        "\"\"\"\n",
        "Explaining:\n",
        "We have the tree like this\n",
        "                    3\n",
        "                9       18\n",
        "                          20\n",
        "\n",
        "We will approach it side by side first left side then right side\n",
        "We are calling maxNodes(rootnode = 3 and sum = 0)\n",
        "here node=3 ,sum = 0\n",
        "max(maxNodes(node.left=9,sum=1),maxNodes(node.right=18,sum=1))---eq1\n",
        "Now we will takle each maxnode \n",
        "\n",
        "LEFTSIDE\n",
        "===============\n",
        "maxNodes(node.left=9,sum=1)\n",
        "---------------------------\n",
        "node = 9 ,sum =1\n",
        "max(maxNodes(node.left=0,sum=2),maxNodes(node.right=0,sum=2))\n",
        "Takle each maxnode here\n",
        "\n",
        "maxNodes(node.left=0,sum=2) \n",
        "node = 0 ,sum 2 , return sum = 2\n",
        "\n",
        "maxNodes(node.right=0,sum=2) = node = 0,sum =2 ,return sum =2\n",
        "\n",
        "max(2,2) = 2----Eq2 (Left side Done)\n",
        "\n",
        "RIGHTSIDE\n",
        "============\n",
        "Now go to the 2nd maxnode of Eq1 maxNodes(node.right=18,sum=1)\n",
        "maxNodes(node.right=18,sum=1)\n",
        "------------------------------\n",
        "node = 18, sum =1\n",
        "max(maxnodes(node.left=0,sum=2),maxnode(node.right=20,sum=2))---Eq-3\n",
        "\n",
        "maxnodes(node.left=0,sum=2)\n",
        "node= 0,sum = 2 ,return sum = 2\n",
        "\n",
        "maxnode(node.right=20,sum=2)\n",
        "node = 20, sum = 2\n",
        "max(maxnode(node.left=0,sum=3),maxnode(node.right=0,sum = 3))----Eq-4\n",
        "maxnode(node.left=0,sum=3) = return sum =3\n",
        "maxnode(node.right=0,sum = 3) = retunr sum = 3\n",
        "\n",
        "So Eq-4 becomes max(3,3) = 3 \n",
        "Puting it in Eq-3  max(2,Eq-4) = max(2,3) = 3 (We got right side depth)\n",
        "Putting it inot Eq-1  \n",
        "max(maxNodes(node.left=9,sum=1),maxNodes(node.right=18,sum=1))\n",
        "=> max(Eq-2,Eq-3) = max(2,3) = 3 (ANS)\n",
        "\n",
        "\"\"\""
      ],
      "execution_count": 0,
      "outputs": [
        {
          "output_type": "stream",
          "text": [
            "7\n",
            "2.807354922057604\n"
          ],
          "name": "stdout"
        }
      ]
    },
    {
      "cell_type": "code",
      "metadata": {
        "id": "Nci5DQ0i9q0T",
        "colab_type": "code",
        "outputId": "ee014d3d-3d69-4f06-8061-22deb3f6ab3a",
        "colab": {
          "base_uri": "https://localhost:8080/",
          "height": 347
        }
      },
      "source": [
        ""
      ],
      "execution_count": 2,
      "outputs": [
        {
          "output_type": "error",
          "ename": "AttributeError",
          "evalue": "ignored",
          "traceback": [
            "\u001b[0;31m---------------------------------------------------------------------------\u001b[0m",
            "\u001b[0;31mAttributeError\u001b[0m                            Traceback (most recent call last)",
            "\u001b[0;32m<ipython-input-2-7b291c3b94f7>\u001b[0m in \u001b[0;36m<module>\u001b[0;34m()\u001b[0m\n\u001b[1;32m      9\u001b[0m \u001b[0;34m\u001b[0m\u001b[0m\n\u001b[1;32m     10\u001b[0m \u001b[0mobj1\u001b[0m \u001b[0;34m=\u001b[0m \u001b[0mSolution\u001b[0m\u001b[0;34m(\u001b[0m\u001b[0;34m)\u001b[0m\u001b[0;34m\u001b[0m\u001b[0;34m\u001b[0m\u001b[0m\n\u001b[0;32m---> 11\u001b[0;31m \u001b[0mprint\u001b[0m\u001b[0;34m(\u001b[0m\u001b[0mobj1\u001b[0m\u001b[0;34m.\u001b[0m\u001b[0mmaxDepth\u001b[0m\u001b[0;34m(\u001b[0m\u001b[0;34m[\u001b[0m\u001b[0;36m3\u001b[0m\u001b[0;34m,\u001b[0m\u001b[0;36m4\u001b[0m\u001b[0;34m,\u001b[0m\u001b[0;36m5\u001b[0m\u001b[0;34m,\u001b[0m\u001b[0;36m6\u001b[0m\u001b[0;34m,\u001b[0m\u001b[0;36m7\u001b[0m\u001b[0;34m,\u001b[0m\u001b[0;36m8\u001b[0m\u001b[0;34m]\u001b[0m\u001b[0;34m)\u001b[0m\u001b[0;34m)\u001b[0m\u001b[0;34m\u001b[0m\u001b[0;34m\u001b[0m\u001b[0m\n\u001b[0m",
            "\u001b[0;32m<ipython-input-2-7b291c3b94f7>\u001b[0m in \u001b[0;36mmaxDepth\u001b[0;34m(self, root)\u001b[0m\n\u001b[1;32m      6\u001b[0m             \u001b[0;32mreturn\u001b[0m \u001b[0;36m1\u001b[0m \u001b[0;34m+\u001b[0m \u001b[0mmax\u001b[0m\u001b[0;34m(\u001b[0m\u001b[0mfn\u001b[0m\u001b[0;34m(\u001b[0m\u001b[0mnode\u001b[0m\u001b[0;34m.\u001b[0m\u001b[0mleft\u001b[0m\u001b[0;34m)\u001b[0m\u001b[0;34m,\u001b[0m \u001b[0mfn\u001b[0m\u001b[0;34m(\u001b[0m\u001b[0mnode\u001b[0m\u001b[0;34m.\u001b[0m\u001b[0mright\u001b[0m\u001b[0;34m)\u001b[0m\u001b[0;34m)\u001b[0m\u001b[0;34m\u001b[0m\u001b[0;34m\u001b[0m\u001b[0m\n\u001b[1;32m      7\u001b[0m \u001b[0;34m\u001b[0m\u001b[0m\n\u001b[0;32m----> 8\u001b[0;31m         \u001b[0;32mreturn\u001b[0m \u001b[0mfn\u001b[0m\u001b[0;34m(\u001b[0m\u001b[0mroot\u001b[0m\u001b[0;34m)\u001b[0m\u001b[0;34m\u001b[0m\u001b[0;34m\u001b[0m\u001b[0m\n\u001b[0m\u001b[1;32m      9\u001b[0m \u001b[0;34m\u001b[0m\u001b[0m\n\u001b[1;32m     10\u001b[0m \u001b[0mobj1\u001b[0m \u001b[0;34m=\u001b[0m \u001b[0mSolution\u001b[0m\u001b[0;34m(\u001b[0m\u001b[0;34m)\u001b[0m\u001b[0;34m\u001b[0m\u001b[0;34m\u001b[0m\u001b[0m\n",
            "\u001b[0;32m<ipython-input-2-7b291c3b94f7>\u001b[0m in \u001b[0;36mfn\u001b[0;34m(node)\u001b[0m\n\u001b[1;32m      4\u001b[0m         \u001b[0;32mdef\u001b[0m \u001b[0mfn\u001b[0m\u001b[0;34m(\u001b[0m\u001b[0mnode\u001b[0m\u001b[0;34m)\u001b[0m\u001b[0;34m:\u001b[0m\u001b[0;34m\u001b[0m\u001b[0;34m\u001b[0m\u001b[0m\n\u001b[1;32m      5\u001b[0m             \u001b[0;32mif\u001b[0m \u001b[0;32mnot\u001b[0m \u001b[0mnode\u001b[0m\u001b[0;34m:\u001b[0m \u001b[0;32mreturn\u001b[0m \u001b[0;36m0\u001b[0m\u001b[0;34m\u001b[0m\u001b[0;34m\u001b[0m\u001b[0m\n\u001b[0;32m----> 6\u001b[0;31m             \u001b[0;32mreturn\u001b[0m \u001b[0;36m1\u001b[0m \u001b[0;34m+\u001b[0m \u001b[0mmax\u001b[0m\u001b[0;34m(\u001b[0m\u001b[0mfn\u001b[0m\u001b[0;34m(\u001b[0m\u001b[0mnode\u001b[0m\u001b[0;34m.\u001b[0m\u001b[0mleft\u001b[0m\u001b[0;34m)\u001b[0m\u001b[0;34m,\u001b[0m \u001b[0mfn\u001b[0m\u001b[0;34m(\u001b[0m\u001b[0mnode\u001b[0m\u001b[0;34m.\u001b[0m\u001b[0mright\u001b[0m\u001b[0;34m)\u001b[0m\u001b[0;34m)\u001b[0m\u001b[0;34m\u001b[0m\u001b[0;34m\u001b[0m\u001b[0m\n\u001b[0m\u001b[1;32m      7\u001b[0m \u001b[0;34m\u001b[0m\u001b[0m\n\u001b[1;32m      8\u001b[0m         \u001b[0;32mreturn\u001b[0m \u001b[0mfn\u001b[0m\u001b[0;34m(\u001b[0m\u001b[0mroot\u001b[0m\u001b[0;34m)\u001b[0m\u001b[0;34m\u001b[0m\u001b[0;34m\u001b[0m\u001b[0m\n",
            "\u001b[0;31mAttributeError\u001b[0m: 'list' object has no attribute 'left'"
          ]
        }
      ]
    },
    {
      "cell_type": "code",
      "metadata": {
        "id": "nHqX8T7T-b62",
        "colab_type": "code",
        "colab": {
          "base_uri": "https://localhost:8080/",
          "height": 35
        },
        "outputId": "e63bb18c-e1f1-431b-e32a-040ba0c73f1f"
      },
      "source": [
        "max(10,20)"
      ],
      "execution_count": 3,
      "outputs": [
        {
          "output_type": "execute_result",
          "data": {
            "text/plain": [
              "20"
            ]
          },
          "metadata": {
            "tags": []
          },
          "execution_count": 3
        }
      ]
    }
  ]
}