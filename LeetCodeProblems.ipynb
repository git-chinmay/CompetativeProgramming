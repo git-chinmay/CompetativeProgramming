{
  "nbformat": 4,
  "nbformat_minor": 0,
  "metadata": {
    "colab": {
      "name": "LeetCodeProblems.ipynb",
      "provenance": [],
      "authorship_tag": "ABX9TyObITQVXVmYLIlokqDl3L3G",
      "include_colab_link": true
    },
    "kernelspec": {
      "name": "python3",
      "display_name": "Python 3"
    }
  },
  "cells": [
    {
      "cell_type": "markdown",
      "metadata": {
        "id": "view-in-github",
        "colab_type": "text"
      },
      "source": [
        "<a href=\"https://colab.research.google.com/github/git-chinmay/CompetativeProgramming/blob/master/LeetCodeProblems.ipynb\" target=\"_parent\"><img src=\"https://colab.research.google.com/assets/colab-badge.svg\" alt=\"Open In Colab\"/></a>"
      ]
    },
    {
      "cell_type": "code",
      "metadata": {
        "id": "D_LBug8Acpro",
        "colab_type": "code",
        "colab": {
          "base_uri": "https://localhost:8080/",
          "height": 35
        },
        "outputId": "857848cd-c407-4913-d7c5-b99b464de51e"
      },
      "source": [
        "class Solution:\n",
        "\n",
        "  def twoSum(self, nums, target):\n",
        "    h = {}\n",
        "    for i, v in enumerate(nums):\n",
        "      remaining = target - v\n",
        "      if remaining in h:\n",
        "        return [h[remaining], i]       \n",
        "      h[v] = i\n",
        "    return []\n",
        "          \n",
        "\n",
        "obj1 = Solution()\n",
        "obj1.twoSum([1,2],3)"
      ],
      "execution_count": 58,
      "outputs": [
        {
          "output_type": "execute_result",
          "data": {
            "text/plain": [
              "[0, 1]"
            ]
          },
          "metadata": {
            "tags": []
          },
          "execution_count": 58
        }
      ]
    },
    {
      "cell_type": "code",
      "metadata": {
        "id": "Ghsovhs69_oY",
        "colab_type": "code",
        "colab": {
          "base_uri": "https://localhost:8080/",
          "height": 35
        },
        "outputId": "adaba161-860b-487a-ec1f-4d3c53499eb9"
      },
      "source": [
        "#Q:- To find the smallest number after removing K digits from a given number\n",
        "#We are not considering the Time-Space complexcity as focus is only on solution.\n",
        "#For Time Complexcity https://www.youtube.com/watch?v=3QJzHqNAEXs\n",
        "\n",
        "def Solution(inputList,k):\n",
        "  length = len(inputList)\n",
        "  if k >= length :\n",
        "    return \"K value should be smaller than length of input list.\"\n",
        "\n",
        "  i , j = 0,1\n",
        "  while length != 1 and k != 0:  \n",
        "    if inputList[i] > inputList[j]:\n",
        "      del inputList[i]\n",
        "      k -= 1\n",
        "      #Reseting i & j so that it always check from begining of list\n",
        "      i,j = 0,1 \n",
        "    else:\n",
        "      i += 1\n",
        "      j += 1\n",
        "    \n",
        "    length -= 1\n",
        "\n",
        "    #Condition is there should not be any leadning zeros\n",
        "    if inputList[i] == 0:\n",
        "      del inputList[i]\n",
        "  return inputList\n",
        "\n",
        "print(Solution([0,2,3,1,5,6,3,7],5))"
      ],
      "execution_count": 40,
      "outputs": [
        {
          "output_type": "stream",
          "text": [
            "[1, 5, 3, 7]\n"
          ],
          "name": "stdout"
        }
      ]
    }
  ]
}